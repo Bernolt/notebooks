{
 "cells": [
  {
   "cell_type": "code",
   "execution_count": 1,
   "metadata": {},
   "outputs": [
    {
     "name": "stdout",
     "output_type": "stream",
     "text": [
      "Change in memory use: 76502016\n",
      "Change in peak use: 5843859776\n"
     ]
    }
   ],
   "source": [
    "import pandas as pd\n",
    "from pandas.util.testing import rands\n",
    "\n",
    "import pyarrow as pa\n",
    "import pyarrow.parquet as pq\n",
    "\n",
    "import gc\n",
    "class memory_use:\n",
    "    \n",
    "    def __init__(self):\n",
    "        self.start_use = pa.total_allocated_bytes()        \n",
    "        self.pool = pa.default_memory_pool()\n",
    "        self.start_peak_use = self.pool.max_memory()\n",
    "        \n",
    "    def __enter__(self):\n",
    "        return\n",
    "    \n",
    "    def __exit__(self, type, value, traceback):\n",
    "        gc.collect()\n",
    "        print(\"Change in memory use: {}\"\n",
    "              .format(pa.total_allocated_bytes() - self.start_use))\n",
    "        print(\"Change in peak use: {}\"\n",
    "              .format(self.pool.max_memory() - self.start_peak_use))\n",
    "\n",
    "with memory_use():\n",
    "    table = pq.read_table('/home/wesm/Downloads/demofile.parquet')        "
   ]
  },
  {
   "cell_type": "code",
   "execution_count": 2,
   "metadata": {},
   "outputs": [
    {
     "name": "stdout",
     "output_type": "stream",
     "text": [
      "Change in memory use: 34499968\n",
      "Change in peak use: 5801857728\n"
     ]
    }
   ],
   "source": [
    "with memory_use():\n",
    "    table = pq.read_table('/home/wesm/Downloads/demofile.parquet', columns=['body'])"
   ]
  },
  {
   "cell_type": "code",
   "execution_count": 5,
   "metadata": {},
   "outputs": [
    {
     "data": {
      "text/plain": [
       "pyarrow.Table\n",
       "archived: bool\n",
       "author: string\n",
       "author_flair_css_class: string\n",
       "author_flair_text: string\n",
       "body: string\n",
       "controversiality: int64\n",
       "created_utc: string\n",
       "distinguished: string\n",
       "downs: int64\n",
       "edited: string\n",
       "gilded: int64\n",
       "id: string\n",
       "link_id: string\n",
       "name: string\n",
       "parent_id: string\n",
       "retrieved_on: int64\n",
       "score: int64\n",
       "score_hidden: bool\n",
       "subreddit: string\n",
       "subreddit_id: string\n",
       "ups: int64"
      ]
     },
     "execution_count": 5,
     "metadata": {},
     "output_type": "execute_result"
    }
   ],
   "source": [
    "table"
   ]
  },
  {
   "cell_type": "code",
   "execution_count": null,
   "metadata": {},
   "outputs": [],
   "source": [
    "def generate_strings(length, nunique, string_length=10):\n",
    "    unique_values = [rands(string_length) for i in range(nunique)]\n",
    "    values = unique_values * (length // nunique)\n",
    "    return values\n",
    "\n",
    "df = pd.DataFrame()\n",
    "df['a'] = generate_strings(100000000, 10000)\n",
    "df['b'] = generate_strings(100000000, 10000)\n",
    "df.to_parquet('/tmp/test.parquet')"
   ]
  },
  {
   "cell_type": "code",
   "execution_count": 2,
   "metadata": {},
   "outputs": [
    {
     "name": "stdout",
     "output_type": "stream",
     "text": [
      "Change in memory use: 825560448\n",
      "Change in peak use: 1484772224\n"
     ]
    }
   ],
   "source": [
    "with memory_use():\n",
    "    table = pq.read_table('/tmp/test.parquet', read_dictionary=['a', 'b'])"
   ]
  },
  {
   "cell_type": "code",
   "execution_count": 2,
   "metadata": {},
   "outputs": [],
   "source": [
    "pool = pa.default_memory_pool()"
   ]
  },
  {
   "cell_type": "code",
   "execution_count": 3,
   "metadata": {},
   "outputs": [
    {
     "data": {
      "text/plain": [
       "0"
      ]
     },
     "execution_count": 3,
     "metadata": {},
     "output_type": "execute_result"
    }
   ],
   "source": [
    "pool.max_memory()"
   ]
  },
  {
   "cell_type": "code",
   "execution_count": 4,
   "metadata": {},
   "outputs": [],
   "source": []
  },
  {
   "cell_type": "code",
   "execution_count": 7,
   "metadata": {},
   "outputs": [
    {
     "name": "stdout",
     "output_type": "stream",
     "text": [
      "-rw-r--r-- 1 wesm wesm 274263652 Aug  3 14:19 /tmp/test.parquet\r\n"
     ]
    }
   ],
   "source": [
    "!ls -l /tmp/*.parquet"
   ]
  },
  {
   "cell_type": "code",
   "execution_count": 8,
   "metadata": {},
   "outputs": [
    {
     "name": "stdout",
     "output_type": "stream",
     "text": [
      "Change in memory use: 2825000192\n",
      "Change in peak use: 3827684608\n"
     ]
    }
   ],
   "source": []
  },
  {
   "cell_type": "code",
   "execution_count": 10,
   "metadata": {},
   "outputs": [
    {
     "data": {
      "text/plain": [
       "20585786752"
      ]
     },
     "execution_count": 10,
     "metadata": {},
     "output_type": "execute_result"
    }
   ],
   "source": [
    "pool.max_memory()"
   ]
  },
  {
   "cell_type": "code",
   "execution_count": null,
   "metadata": {},
   "outputs": [],
   "source": []
  }
 ],
 "metadata": {
  "kernelspec": {
   "display_name": "Python 3",
   "language": "python",
   "name": "python3"
  },
  "language_info": {
   "codemirror_mode": {
    "name": "ipython",
    "version": 3
   },
   "file_extension": ".py",
   "mimetype": "text/x-python",
   "name": "python",
   "nbconvert_exporter": "python",
   "pygments_lexer": "ipython3",
   "version": "3.7.3"
  }
 },
 "nbformat": 4,
 "nbformat_minor": 2
}
