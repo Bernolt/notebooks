{
 "cells": [
  {
   "cell_type": "code",
   "execution_count": 1,
   "metadata": {},
   "outputs": [],
   "source": [
    "import numpy as np\n",
    "import pyarrow as pa\n",
    "import pyarrow.csv as csv\n",
    "import pandas as pd"
   ]
  },
  {
   "cell_type": "code",
   "execution_count": 26,
   "metadata": {},
   "outputs": [
    {
     "name": "stdout",
     "output_type": "stream",
     "text": [
      "total 154176\r\n",
      "-rw-r--r-- 1 wesm wesm 157871393 Feb 25 12:03 P00000001-ALL.csv\r\n"
     ]
    }
   ],
   "source": [
    "!ls -l /home/wesm/code/pydata-book/datasets/fec/"
   ]
  },
  {
   "cell_type": "code",
   "execution_count": 27,
   "metadata": {},
   "outputs": [
    {
     "name": "stdout",
     "output_type": "stream",
     "text": [
      "cmte_id,cand_id,cand_nm,contbr_nm,contbr_city,contbr_st,contbr_zip,contbr_employer,contbr_occupation,contb_receipt_amt,contb_receipt_dt,receipt_desc,memo_cd,memo_text,form_tp,file_num\r\n",
      "C00410118,\"P20002978\",\"Bachmann, Michelle\",\"HARVEY, WILLIAM\",\"MOBILE\",\"AL\",\"366010290\",\"RETIRED\",\"RETIRED\",250,20-JUN-11,\"\",\"\",\"\",\"SA17A\",736166\r\n",
      "C00410118,\"P20002978\",\"Bachmann, Michelle\",\"HARVEY, WILLIAM\",\"MOBILE\",\"AL\",\"366010290\",\"RETIRED\",\"RETIRED\",50,23-JUN-11,\"\",\"\",\"\",\"SA17A\",736166\r\n",
      "C00410118,\"P20002978\",\"Bachmann, Michelle\",\"SMITH, LANIER\",\"LANETT\",\"AL\",\"368633403\",\"INFORMATION REQUESTED\",\"INFORMATION REQUESTED\",250,05-JUL-11,\"\",\"\",\"\",\"SA17A\",749073\r\n",
      "C00410118,\"P20002978\",\"Bachmann, Michelle\",\"BLEVINS, DARONDA\",\"PIGGOTT\",\"AR\",\"724548253\",\"NONE\",\"RETIRED\",250,01-AUG-11,\"\",\"\",\"\",\"SA17A\",749073\r\n"
     ]
    }
   ],
   "source": [
    "!head -n 5 /home/wesm/code/pydata-book/datasets/fec/P00000001-ALL.csv"
   ]
  },
  {
   "cell_type": "code",
   "execution_count": 28,
   "metadata": {},
   "outputs": [],
   "source": [
    "fec = pd.read_csv('/home/wesm/code/pydata-book/datasets/fec/P00000001-ALL.csv')\n",
    "fec.head()\n",
    "def coerce_int(x):\n",
    "    try:\n",
    "        return int(x)\n",
    "    except:\n",
    "        return -1\n",
    "\n",
    "fec['contbr_zip'] = fec['contbr_zip'].map(coerce_int).astype(np.int64)"
   ]
  },
  {
   "cell_type": "code",
   "execution_count": 30,
   "metadata": {},
   "outputs": [],
   "source": [
    "arrow_fec = pa.Table.from_pandas(fec, preserve_index=False)"
   ]
  },
  {
   "cell_type": "code",
   "execution_count": 31,
   "metadata": {},
   "outputs": [
    {
     "data": {
      "text/plain": [
       "cmte_id: string\n",
       "cand_id: string\n",
       "cand_nm: string\n",
       "contbr_nm: string\n",
       "contbr_city: string\n",
       "contbr_st: string\n",
       "contbr_zip: int64\n",
       "contbr_employer: string\n",
       "contbr_occupation: string\n",
       "contb_receipt_amt: double\n",
       "contb_receipt_dt: string\n",
       "receipt_desc: string\n",
       "memo_cd: string\n",
       "memo_text: string\n",
       "form_tp: string\n",
       "file_num: int64\n",
       "metadata\n",
       "--------\n",
       "{b'pandas': b'{\"index_columns\": [], \"column_indexes\": [], \"columns\": [{\"name\":'\n",
       "            b' \"cmte_id\", \"field_name\": \"cmte_id\", \"pandas_type\": \"unicode\", \"'\n",
       "            b'numpy_type\": \"object\", \"metadata\": null}, {\"name\": \"cand_id\", \"f'\n",
       "            b'ield_name\": \"cand_id\", \"pandas_type\": \"unicode\", \"numpy_type\": \"'\n",
       "            b'object\", \"metadata\": null}, {\"name\": \"cand_nm\", \"field_name\": \"c'\n",
       "            b'and_nm\", \"pandas_type\": \"unicode\", \"numpy_type\": \"object\", \"meta'\n",
       "            b'data\": null}, {\"name\": \"contbr_nm\", \"field_name\": \"contbr_nm\", \"'\n",
       "            b'pandas_type\": \"unicode\", \"numpy_type\": \"object\", \"metadata\": nul'\n",
       "            b'l}, {\"name\": \"contbr_city\", \"field_name\": \"contbr_city\", \"pandas'\n",
       "            b'_type\": \"unicode\", \"numpy_type\": \"object\", \"metadata\": null}, {\"'\n",
       "            b'name\": \"contbr_st\", \"field_name\": \"contbr_st\", \"pandas_type\": \"u'\n",
       "            b'nicode\", \"numpy_type\": \"object\", \"metadata\": null}, {\"name\": \"co'\n",
       "            b'ntbr_zip\", \"field_name\": \"contbr_zip\", \"pandas_type\": \"int64\", \"'\n",
       "            b'numpy_type\": \"int64\", \"metadata\": null}, {\"name\": \"contbr_employ'\n",
       "            b'er\", \"field_name\": \"contbr_employer\", \"pandas_type\": \"unicode\", '\n",
       "            b'\"numpy_type\": \"object\", \"metadata\": null}, {\"name\": \"contbr_occu'\n",
       "            b'pation\", \"field_name\": \"contbr_occupation\", \"pandas_type\": \"unic'\n",
       "            b'ode\", \"numpy_type\": \"object\", \"metadata\": null}, {\"name\": \"contb'\n",
       "            b'_receipt_amt\", \"field_name\": \"contb_receipt_amt\", \"pandas_type\":'\n",
       "            b' \"float64\", \"numpy_type\": \"float64\", \"metadata\": null}, {\"name\":'\n",
       "            b' \"contb_receipt_dt\", \"field_name\": \"contb_receipt_dt\", \"pandas_t'\n",
       "            b'ype\": \"unicode\", \"numpy_type\": \"object\", \"metadata\": null}, {\"na'\n",
       "            b'me\": \"receipt_desc\", \"field_name\": \"receipt_desc\", \"pandas_type\"'\n",
       "            b': \"unicode\", \"numpy_type\": \"object\", \"metadata\": null}, {\"name\":'\n",
       "            b' \"memo_cd\", \"field_name\": \"memo_cd\", \"pandas_type\": \"unicode\", \"'\n",
       "            b'numpy_type\": \"object\", \"metadata\": null}, {\"name\": \"memo_text\", '\n",
       "            b'\"field_name\": \"memo_text\", \"pandas_type\": \"unicode\", \"numpy_type'\n",
       "            b'\": \"object\", \"metadata\": null}, {\"name\": \"form_tp\", \"field_name\"'\n",
       "            b': \"form_tp\", \"pandas_type\": \"unicode\", \"numpy_type\": \"object\", \"'\n",
       "            b'metadata\": null}, {\"name\": \"file_num\", \"field_name\": \"file_num\",'\n",
       "            b' \"pandas_type\": \"int64\", \"numpy_type\": \"int64\", \"metadata\": null'\n",
       "            b'}], \"creator\": {\"library\": \"pyarrow\", \"version\": \"0.13.1.dev157+'\n",
       "            b'gd141d787f\"}, \"pandas_version\": \"0.24.2\"}'}"
      ]
     },
     "execution_count": 31,
     "metadata": {},
     "output_type": "execute_result"
    }
   ],
   "source": [
    "arrow_fec.schema"
   ]
  },
  {
   "cell_type": "code",
   "execution_count": 2,
   "metadata": {},
   "outputs": [
    {
     "data": {
      "text/plain": [
       "0"
      ]
     },
     "execution_count": 2,
     "metadata": {},
     "output_type": "execute_result"
    }
   ],
   "source": [
    "pa.total_allocated_bytes()"
   ]
  },
  {
   "cell_type": "code",
   "execution_count": 33,
   "metadata": {},
   "outputs": [],
   "source": [
    "with open('fec.arrow', 'wb') as f:\n",
    "    writer = pa.ipc.RecordBatchFileWriter(f, arrow_fec.schema)\n",
    "    for i in range(50):\n",
    "        writer.write(arrow_fec)\n",
    "    writer.close()"
   ]
  },
  {
   "cell_type": "code",
   "execution_count": 34,
   "metadata": {},
   "outputs": [
    {
     "name": "stdout",
     "output_type": "stream",
     "text": [
      "total 8692860\r\n",
      "-rw-r--r-- 1 wesm wesm       3593 May 10 13:28 20190225arrow-Copy1.ipynb\r\n",
      "-rw-r--r-- 1 wesm wesm     111635 May 10 13:24 20190225arrow.ipynb\r\n",
      "-rw-r--r-- 1 wesm wesm 8901358498 May 10 13:56 fec.arrow\r\n",
      "-rw-r--r-- 1 wesm wesm        688 Mar  1 10:55 Untitled.ipynb\r\n"
     ]
    }
   ],
   "source": [
    "!ls -l"
   ]
  },
  {
   "cell_type": "code",
   "execution_count": 3,
   "metadata": {},
   "outputs": [],
   "source": [
    "mmap = pa.memory_map('fec.arrow')\n",
    "f = pa.ipc.open_file(mmap)"
   ]
  },
  {
   "cell_type": "code",
   "execution_count": 4,
   "metadata": {},
   "outputs": [],
   "source": [
    "t = f.read_all()"
   ]
  },
  {
   "cell_type": "code",
   "execution_count": 5,
   "metadata": {},
   "outputs": [
    {
     "data": {
      "text/plain": [
       "50"
      ]
     },
     "execution_count": 5,
     "metadata": {},
     "output_type": "execute_result"
    }
   ],
   "source": [
    "t[0].data.num_chunks"
   ]
  },
  {
   "cell_type": "code",
   "execution_count": null,
   "metadata": {},
   "outputs": [],
   "source": [
    "pa.total_allocated_bytes()"
   ]
  },
  {
   "cell_type": "code",
   "execution_count": null,
   "metadata": {},
   "outputs": [],
   "source": [
    "arr = t[0].data.chunk(0)"
   ]
  },
  {
   "cell_type": "code",
   "execution_count": null,
   "metadata": {},
   "outputs": [],
   "source": [
    "arr[0]"
   ]
  },
  {
   "cell_type": "code",
   "execution_count": 6,
   "metadata": {},
   "outputs": [
    {
     "name": "stdout",
     "output_type": "stream",
     "text": [
      "CPU times: user 422 ms, sys: 15.3 ms, total: 438 ms\n",
      "Wall time: 436 ms\n"
     ]
    },
    {
     "data": {
      "text/plain": [
       "<pyarrow.lib.StringArray object at 0x7f96af75c868>\n",
       "[\n",
       "  \"P20002978\",\n",
       "  \"P80003353\",\n",
       "  \"P80003338\",\n",
       "  \"P20002523\",\n",
       "  \"P20002556\",\n",
       "  \"P20002671\",\n",
       "  \"P80000748\",\n",
       "  \"P20002721\",\n",
       "  \"P00003608\",\n",
       "  \"P60003654\",\n",
       "  \"P20003109\",\n",
       "  \"P20003067\",\n",
       "  \"P20003281\"\n",
       "]"
      ]
     },
     "execution_count": 6,
     "metadata": {},
     "output_type": "execute_result"
    }
   ],
   "source": [
    "%time t[1].unique()"
   ]
  },
  {
   "cell_type": "code",
   "execution_count": null,
   "metadata": {},
   "outputs": [],
   "source": []
  }
 ],
 "metadata": {
  "kernelspec": {
   "display_name": "Python 3",
   "language": "python",
   "name": "python3"
  },
  "language_info": {
   "codemirror_mode": {
    "name": "ipython",
    "version": 3
   },
   "file_extension": ".py",
   "mimetype": "text/x-python",
   "name": "python",
   "nbconvert_exporter": "python",
   "pygments_lexer": "ipython3",
   "version": "3.7.3"
  }
 },
 "nbformat": 4,
 "nbformat_minor": 2
}
