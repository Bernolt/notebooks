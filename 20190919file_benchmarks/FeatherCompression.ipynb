{
 "cells": [
  {
   "cell_type": "code",
   "execution_count": null,
   "metadata": {},
   "outputs": [],
   "source": [
    "# flake8: noqa\n",
    "\n",
    "import pyarrow.feather as feather\n",
    "import pandas as pd\n",
    "import json\n",
    "import numpy as np\n",
    "import pyarrow as pa\n",
    "import pyarrow.parquet as pq\n",
    "from pandas.util.testing import rands\n",
    "import gc\n",
    "import time\n",
    "\n",
    "print(f\"using {pa.cpu_count()} cpu cores\")\n",
    "    \n",
    "\n",
    "def get_timing(f, niter):\n",
    "    start = time.clock_gettime(time.CLOCK_REALTIME)\n",
    "    for i in range(niter):\n",
    "        f()\n",
    "    result = (time.clock_gettime(time.CLOCK_REALTIME) - start) / niter\n",
    "    return result\n",
    "\n",
    "\n",
    "files = {\n",
    "    'fanniemae': {\n",
    "        'base': '2016Q4',\n",
    "        'source': {\n",
    "            'path': '2016Q4.txt',\n",
    "            'sep': '|',\n",
    "            'header': None\n",
    "        }\n",
    "    },\n",
    "    'nyctaxi': {\n",
    "        'base': 'yellow_tripdata_2010-01',\n",
    "        'source': {\n",
    "            'path': 'yellow_tripdata_2010-01.csv',\n",
    "            'sep': ',',\n",
    "            'header': 0\n",
    "        }\n",
    "    }\n",
    "}\n",
    "\n",
    "\n",
    "compression_cases = [\n",
    "    (None, None),   # uncompressed\n",
    "    ('zstd', 1),    # minimal compression\n",
    "    ('zstd', 10),   # moderate\n",
    "    ('lz4', None)   # LZ4 doesn't support compression level\n",
    "]\n",
    "\n",
    "\n",
    "def write_files(files):\n",
    "    for name, info in files.items():\n",
    "        source = info['source']\n",
    "        print(\"reading {}\".format(source['path']))\n",
    "        df = pd.read_csv(source['path'], sep=source['sep'], \n",
    "                         header=source['header'], \n",
    "                         low_memory=False)\n",
    "        if source['header'] is None:\n",
    "            df.columns = ['f{}'.format(i) for i in range(len(df.columns))]\n",
    "\n",
    "        t = (pa.Table.from_pandas(df, preserve_index=False)\n",
    "             .replace_schema_metadata(None))\n",
    "        for compression, compression_level in compression_cases:\n",
    "            path = '{}_{}_{}.feather'.format(info['base'], \n",
    "                                             compression or 'uncompressed',\n",
    "                                             compression_level)\n",
    "            print(path)\n",
    "            feather.write_feather(df, path, compression=compression,\n",
    "                                  compression_level=compression_level)"
   ]
  },
  {
   "cell_type": "code",
   "execution_count": null,
   "metadata": {},
   "outputs": [],
   "source": [
    "write_files(files)"
   ]
  },
  {
   "cell_type": "code",
   "execution_count": 14,
   "metadata": {},
   "outputs": [
    {
     "name": "stdout",
     "output_type": "stream",
     "text": [
      "('fanniemae', None, None, 2.4117162227630615)\n",
      "('fanniemae', 'zstd', 1, 5.116245985031128)\n",
      "('fanniemae', 'zstd', 10, 3.9139928817749023)\n",
      "('fanniemae', 'lz4', None, 3.5294902324676514)\n",
      "('nyctaxi', None, None, 7.1993725299835205)\n",
      "('nyctaxi', 'zstd', 1, 10.147839069366455)\n",
      "('nyctaxi', 'zstd', 10, 8.913217782974243)\n",
      "('nyctaxi', 'lz4', None, 8.480979204177856)\n"
     ]
    }
   ],
   "source": [
    "NITER = 1\n",
    "\n",
    "all_results = []\n",
    "for name, info in files.items():\n",
    "    for compression, compression_level in compression_cases:\n",
    "        path = '{}_{}_{}.feather'.format(info['base'], \n",
    "                                         compression or 'uncompressed',\n",
    "                                         compression_level)\n",
    "        mean_time = get_timing(lambda: feather.read_feather(path), NITER)\n",
    "        result = name, compression, compression_level, mean_time\n",
    "        print(result)\n",
    "        all_results.append(result)"
   ]
  },
  {
   "cell_type": "code",
   "execution_count": 9,
   "metadata": {},
   "outputs": [
    {
     "name": "stdout",
     "output_type": "stream",
     "text": [
      "reading 2016Q4.txt\n",
      "2016Q4_uncompressed_None.feather\n",
      "2016Q4_zstd_1.feather\n",
      "zstd compression\n",
      "2016Q4_zstd_10.feather\n",
      "zstd compression\n",
      "2016Q4_lz4_None.feather\n",
      "lz4 compression\n",
      "reading yellow_tripdata_2010-01.csv\n",
      "yellow_tripdata_2010-01_uncompressed_None.feather\n",
      "yellow_tripdata_2010-01_zstd_1.feather\n",
      "zstd compression\n",
      "yellow_tripdata_2010-01_zstd_10.feather\n",
      "zstd compression\n",
      "yellow_tripdata_2010-01_lz4_None.feather\n",
      "lz4 compression\n"
     ]
    }
   ],
   "source": []
  },
  {
   "cell_type": "code",
   "execution_count": null,
   "metadata": {},
   "outputs": [],
   "source": []
  }
 ],
 "metadata": {
  "kernelspec": {
   "display_name": "Python 3",
   "language": "python",
   "name": "python3"
  },
  "language_info": {
   "codemirror_mode": {
    "name": "ipython",
    "version": 3
   },
   "file_extension": ".py",
   "mimetype": "text/x-python",
   "name": "python",
   "nbconvert_exporter": "python",
   "pygments_lexer": "ipython3",
   "version": "3.7.6"
  }
 },
 "nbformat": 4,
 "nbformat_minor": 4
}
